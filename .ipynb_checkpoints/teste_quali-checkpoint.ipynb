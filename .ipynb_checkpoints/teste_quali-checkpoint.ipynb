{
 "cells": [
  {
   "cell_type": "code",
   "execution_count": 1,
   "metadata": {},
   "outputs": [],
   "source": [
    "import pandas as pd\n",
    "import numpy as np\n",
    "from pandasql import sqldf\n",
    "import itertools\n",
    "import seaborn as sns\n",
    "import matplotlib.pyplot as plt\n",
    "from joypy import joyplot\n",
    "sns.set_theme(style=\"whitegrid\")"
   ]
  },
  {
   "cell_type": "code",
   "execution_count": 2,
   "metadata": {},
   "outputs": [],
   "source": [
    "users = pd.read_csv(\"users2.csv\")\n",
    "users_cresci = pd.read_csv(\"users_cresci.csv\")\n",
    "users_total = users.append(users_cresci, ignore_index=True)"
   ]
  },
  {
   "cell_type": "code",
   "execution_count": 3,
   "metadata": {},
   "outputs": [],
   "source": [
    "#Create baseline RF classifier with base features from Ferrara et al.\n",
    "from sklearn.ensemble import RandomForestClassifier\n",
    "from sklearn.model_selection import train_test_split\n",
    "from sklearn.metrics import roc_auc_score\n",
    "from sklearn.preprocessing import MinMaxScaler\n",
    "\n",
    "\n",
    "X = users_total[[\"dataset\",\"label\",\"statuses_count\",\"followers_count\",\"friends_count\",\"favourites_count\", \\\n",
    "            \"listed_count\",\"default_profile\",\"geo_enabled\",\"profile_use_background_image\",\"verified\",\"protected\"]].fillna(0)\n",
    "\n",
    "X[\"label\"] = X[\"label\"].apply(lambda x: 0 if x == 'human' else 1)\n",
    "\n",
    "X[[\"statuses_count\",\"followers_count\",\"friends_count\",\"favourites_count\",\"listed_count\"]] = X[[\"statuses_count\",\"followers_count\",\"friends_count\",\"favourites_count\",\"listed_count\"]].apply(lambda x: np.log10(x+1))\n",
    "\n",
    "X.reset_index()\n",
    "\n",
    "X_indomain = X[X[\"dataset\"].isin([\"fake_followers.csv\",\"genuine_accounts.csv\",\"social_spambots_1.csv\",\"social_spambots_2.csv\",\n",
    "                                  \"social_spambots_3.csv\",\"traditional_spambots_1.csv\",\"traditional_spambots_2.csv\",\"traditional_spambots_3.csv\"])].copy()\n",
    "X_train, X_test, y_train, y_test = train_test_split(X_indomain.drop([\"dataset\",\"label\"], axis=1), X_indomain[\"label\"], test_size=0.25, random_state=42)\n",
    "\n",
    "transformer = MinMaxScaler().fit(X_train)\n",
    "\n",
    "X_train = pd.DataFrame(transformer.transform(X_train),columns=[\"statuses_count\",\"followers_count\",\"friends_count\",\"favourites_count\", \\\n",
    "            \"listed_count\",\"default_profile\",\"geo_enabled\",\"profile_use_background_image\",\"verified\",\"protected\"])\n",
    "X_test = pd.DataFrame(transformer.transform(X_test),columns=[\"statuses_count\",\"followers_count\",\"friends_count\",\"favourites_count\", \\\n",
    "            \"listed_count\",\"default_profile\",\"geo_enabled\",\"profile_use_background_image\",\"verified\",\"protected\"])\n",
    "\n",
    "\n",
    "X_outdomain = X[~X[\"dataset\"].isin([\"fake_followers.csv\",\"genuine_accounts.csv\",\"social_spambots_1.csv\",\"social_spambots_2.csv\",\n",
    "                                  \"social_spambots_3.csv\",\"traditional_spambots_1.csv\",\"traditional_spambots_2.csv\",\"traditional_spambots_3.csv\"])].copy()\n",
    "\n",
    "\n",
    "X_outdomain_scaled = pd.DataFrame(transformer.transform(X_outdomain.drop([\"dataset\",\"label\"], axis=1)),columns=[\"statuses_count\",\"followers_count\",\"friends_count\",\"favourites_count\", \\\n",
    "            \"listed_count\",\"default_profile\",\"geo_enabled\",\"profile_use_background_image\",\"verified\",\"protected\"])"
   ]
  },
  {
   "cell_type": "code",
   "execution_count": 4,
   "metadata": {},
   "outputs": [
    {
     "data": {
      "text/plain": [
       "0.9970051061649495"
      ]
     },
     "execution_count": 4,
     "metadata": {},
     "output_type": "execute_result"
    }
   ],
   "source": [
    "from sklearn.calibration import CalibratedClassifierCV\n",
    "\n",
    "clf_ = RandomForestClassifier(random_state=42)\n",
    "clf = CalibratedClassifierCV(base_estimator=clf_)\n",
    "\n",
    "clf.fit(X_train,y_train)\n",
    "\n",
    "\n",
    "y_test_scored = clf.predict_proba(X_test)\n",
    "\n",
    "auc = roc_auc_score(y_test,y_test_scored[:,1])\n",
    "auc"
   ]
  },
  {
   "cell_type": "code",
   "execution_count": 5,
   "metadata": {},
   "outputs": [
    {
     "data": {
      "text/plain": [
       "0.7155416924773859"
      ]
     },
     "execution_count": 5,
     "metadata": {},
     "output_type": "execute_result"
    }
   ],
   "source": [
    "### AUC out of domain\n",
    "\n",
    "y_test_scored_out = clf.predict_proba(X_outdomain_scaled)\n",
    "\n",
    "auc_out = roc_auc_score(X_outdomain[\"label\"],y_test_scored_out[:,1])\n",
    "auc_out"
   ]
  },
  {
   "cell_type": "code",
   "execution_count": 6,
   "metadata": {},
   "outputs": [
    {
     "name": "stdout",
     "output_type": "stream",
     "text": [
      "n_clusters = 2, silhouette_score = 0.7981877340898921\n",
      "n_clusters = 3, silhouette_score = 0.6247571681907987\n",
      "n_clusters = 4, silhouette_score = 0.6416087998182678\n",
      "n_clusters = 5, silhouette_score = 0.6814548406530508\n",
      "n_clusters = 6, silhouette_score = 0.5687976809207187\n",
      "n_clusters = 7, silhouette_score = 0.5575827261639363\n",
      "n_clusters = 8, silhouette_score = 0.5509587297937667\n",
      "n_clusters = 9, silhouette_score = 0.5517069959295546\n"
     ]
    }
   ],
   "source": [
    "#Create clusters and voting scheme for RF classifiers with base features from Ferrara et al.\n",
    "from sklearn.cluster import KMeans\n",
    "from sklearn.metrics import silhouette_samples, silhouette_score\n",
    "\n",
    "blobs = pd.DataFrame(y_train,columns=[\"label\"]).reset_index(drop=True)\n",
    "\n",
    "df = pd.concat([X_train[[\"friends_count\",\"followers_count\"]], blobs],axis=1)\n",
    "df_to_cluster = df#[df[\"label\"] == 1]            \n",
    "df_to_cluster.drop(columns=[\"label\"])\n",
    "\n",
    "for n_clusters in range(2,10):\n",
    "\n",
    "    clusterer = KMeans(n_clusters=n_clusters, random_state=42)\n",
    "    cluster_labels = clusterer.fit_predict(df_to_cluster)\n",
    "\n",
    "    # The silhouette_score gives the average value for all the samples.\n",
    "    # This gives a perspective into the density and separation of the formed\n",
    "    # clusters\n",
    "    silhouette_avg = silhouette_score(df_to_cluster, cluster_labels)\n",
    "    print(f\"n_clusters = {n_clusters}, silhouette_score = {silhouette_avg}\")"
   ]
  },
  {
   "cell_type": "code",
   "execution_count": 7,
   "metadata": {},
   "outputs": [],
   "source": [
    "#Looks like 2 clusters is the best\n",
    "\n",
    "X_train[\"index\"] = X_train.index\n",
    "\n",
    "blobs = pd.DataFrame(y_train,columns=[\"label\"]).reset_index(drop=True)\n",
    "\n",
    "df = pd.concat([X_train[[\"friends_count\",\"followers_count\"]], blobs],axis=1)\n",
    "#df_to_cluster_bot = df[df[\"label\"] == 1]\n",
    "#df_to_cluster_human = df[df[\"label\"] == 0]\n",
    "df_to_cluster = df.drop(columns=[\"label\"])\n",
    "\n",
    "clusterer = KMeans(n_clusters=2, random_state=42)\n",
    "\n",
    "clusterer.fit(df_to_cluster)\n",
    "\n",
    "X_train_cluster = pd.DataFrame(clusterer.predict(X_train[[\"friends_count\",\"followers_count\"]]),columns=[\"cluster\"])\n",
    "\n",
    "X_train_cluster_dict = dict()\n",
    "clf_ = dict()\n",
    "\n",
    "\n",
    "for current_cluster in range(0,2):\n",
    "\n",
    "    X_train_cluster_dict[current_cluster] = X_train_cluster[X_train_cluster[\"cluster\"] == current_cluster].copy()\n",
    "    \n",
    "    X_train_cluster_dict[current_cluster][\"index\"] = X_train_cluster_dict[current_cluster].index\n",
    "\n",
    "    X_train_cluster_dict[current_cluster] = pd.merge(X_train, X_train_cluster_dict[current_cluster], on=\"index\", how=\"inner\")\n",
    "    y_train_segment = np.take(y_train,X_train_cluster_dict[current_cluster][\"index\"],axis=0)\n",
    "\n",
    "    clf_[current_cluster] = RandomForestClassifier(random_state=42)\n",
    "    clf_[current_cluster].fit(X_train_cluster_dict[current_cluster].drop(columns=[\"index\",\"cluster\"]).copy(),y_train_segment)\n",
    "\n"
   ]
  },
  {
   "cell_type": "code",
   "execution_count": 8,
   "metadata": {},
   "outputs": [
    {
     "data": {
      "text/plain": [
       "0.9912686615578183"
      ]
     },
     "execution_count": 8,
     "metadata": {},
     "output_type": "execute_result"
    }
   ],
   "source": [
    "#scoring and combining the scores\n",
    "scores = dict()\n",
    "for current_cluster in range(0,2):\n",
    "    scores[current_cluster] = clf_[current_cluster].predict_proba(X_test)\n",
    "    \n",
    "    \n",
    "avg_score = scores[1]\n",
    "auc = roc_auc_score(y_test,avg_score[:,1])\n",
    "auc"
   ]
  },
  {
   "cell_type": "code",
   "execution_count": 9,
   "metadata": {},
   "outputs": [
    {
     "data": {
      "text/plain": [
       "0.7711316479126705"
      ]
     },
     "execution_count": 9,
     "metadata": {},
     "output_type": "execute_result"
    }
   ],
   "source": [
    "### AUC out of domain\n",
    "scores_out = dict()\n",
    "for current_cluster in range(0,2):\n",
    "    scores_out[current_cluster] = clf_[current_cluster].predict_proba(X_outdomain_scaled)\n",
    "    \n",
    "\n",
    "avg_score = scores_out[0]\n",
    "auc_out = roc_auc_score(X_outdomain[\"label\"],avg_score[:,1])\n",
    "auc_out"
   ]
  },
  {
   "cell_type": "code",
   "execution_count": null,
   "metadata": {},
   "outputs": [],
   "source": []
  }
 ],
 "metadata": {
  "kernelspec": {
   "display_name": "Python 3 (ipykernel)",
   "language": "python",
   "name": "python3"
  },
  "language_info": {
   "codemirror_mode": {
    "name": "ipython",
    "version": 3
   },
   "file_extension": ".py",
   "mimetype": "text/x-python",
   "name": "python",
   "nbconvert_exporter": "python",
   "pygments_lexer": "ipython3",
   "version": "3.7.6"
  }
 },
 "nbformat": 4,
 "nbformat_minor": 4
}
